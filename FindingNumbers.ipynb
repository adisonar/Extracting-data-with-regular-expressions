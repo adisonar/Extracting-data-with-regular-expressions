{
 "cells": [
  {
   "cell_type": "code",
   "execution_count": 19,
   "metadata": {},
   "outputs": [
    {
     "name": "stdout",
     "output_type": "stream",
     "text": [
      "Enter file: regex_sum_732853.txt\n",
      "Sum of the numbers is: 465499\n"
     ]
    }
   ],
   "source": [
    "import re\n",
    "\n",
    "#Prompts the user to input the name of the file\n",
    "name = input(\"Enter file: \")    \n",
    "handle = open(name)\n",
    "\n",
    "#Creates an empty list to store the numbers read from the file\n",
    "lst = list()\n",
    "\n",
    "#Initial sum of the numbers is zero\n",
    "sum = 0\n",
    "\n",
    "for line in handle: \n",
    "    line = line.rstrip()                #Strips the white spaces at the end of each line\n",
    "    y = re.findall('[0-9]+', line)      #Finds the numbers more than or equal to one digit\n",
    "    #print(y)                           #Prints the numbers found in the file\n",
    "    for number in y:\n",
    "        num = int(number)               #Converts all the string numbers to integers\n",
    "        lst.append(num)                 #Adds all the numbers to the empty list\n",
    "        sum = sum + num                 #Sums all the numbers of the list\n",
    "\n",
    "#print(lst)                             #Prints the list of numbers\n",
    "print(\"Sum of the numbers is:\", sum)    #Prints the sum of numbers\n",
    "        \n"
   ]
  },
  {
   "cell_type": "code",
   "execution_count": null,
   "metadata": {},
   "outputs": [],
   "source": []
  },
  {
   "cell_type": "code",
   "execution_count": null,
   "metadata": {},
   "outputs": [],
   "source": []
  },
  {
   "cell_type": "code",
   "execution_count": null,
   "metadata": {},
   "outputs": [],
   "source": []
  },
  {
   "cell_type": "code",
   "execution_count": null,
   "metadata": {},
   "outputs": [],
   "source": []
  }
 ],
 "metadata": {
  "kernelspec": {
   "display_name": "Python 3",
   "language": "python",
   "name": "python3"
  },
  "language_info": {
   "codemirror_mode": {
    "name": "ipython",
    "version": 3
   },
   "file_extension": ".py",
   "mimetype": "text/x-python",
   "name": "python",
   "nbconvert_exporter": "python",
   "pygments_lexer": "ipython3",
   "version": "3.7.6"
  }
 },
 "nbformat": 4,
 "nbformat_minor": 4
}
